{
 "cells": [
  {
   "cell_type": "code",
   "execution_count": null,
   "metadata": {},
   "outputs": [],
   "source": [
    "import numpy\n",
    "import pandas\n",
    "import matplotlib.pyplot as plt\n",
    "import seaborn\n",
    "import sklearn\n",
    "import sklearn.datasets\n",
    "import sklearn.linear_model\n",
    "import sklearn.model_selection\n",
    "import sklearn.metrics\n",
    "import sklearn.preprocessing\n",
    "import sklearn.pipeline\n",
    "import sklearn.compose\n",
    "import sklearn.impute\n",
    "import sklearn.ensemble\n",
    "import sklearn.tree\n",
    "import sklearn.neighbors\n",
    "import sklearn.svm\n"
   ]
  }
 ],
 "metadata": {
  "kernelspec": {
   "display_name": "base",
   "language": "python",
   "name": "python3"
  },
  "language_info": {
   "name": "python",
   "version": "3.9.13"
  },
  "orig_nbformat": 4,
  "vscode": {
   "interpreter": {
    "hash": "9480ed1053ec9e9d08afcdc22ba970ef30744498605a1ac3b09bd97451ab2d6e"
   }
  }
 },
 "nbformat": 4,
 "nbformat_minor": 2
}
